{
  "nbformat": 4,
  "nbformat_minor": 0,
  "metadata": {
    "colab": {
      "provenance": [],
      "toc_visible": true,
      "mount_file_id": "https://github.com/HelmieAnalytics/Zaquity/blob/main/ZaquitydataPythonPackageProject.ipynb",
      "authorship_tag": "ABX9TyM+FFnmwvoEelqVWTFNKiH7",
      "include_colab_link": true
    },
    "kernelspec": {
      "name": "python3",
      "display_name": "Python 3"
    },
    "language_info": {
      "name": "python"
    }
  },
  "cells": [
    {
      "cell_type": "markdown",
      "metadata": {
        "id": "view-in-github",
        "colab_type": "text"
      },
      "source": [
        "<a href=\"https://colab.research.google.com/github/HelmieAnalytics/Zaquity/blob/main/ZaquitydataPythonPackageProject.ipynb\" target=\"_parent\"><img src=\"https://colab.research.google.com/assets/colab-badge.svg\" alt=\"Open In Colab\"/></a>"
      ]
    },
    {
      "cell_type": "code",
      "execution_count": null,
      "metadata": {
        "id": "EFz9TH0wayx8"
      },
      "outputs": [],
      "source": [
        "!pip install --upgrade pip"
      ]
    },
    {
      "cell_type": "code",
      "source": [],
      "metadata": {
        "id": "d79m1MPpzdpl"
      },
      "execution_count": null,
      "outputs": []
    },
    {
      "cell_type": "code",
      "source": [
        "from google.colab import drive\n",
        "drive.mount('/content/drive')"
      ],
      "metadata": {
        "id": "SLJO6vVQ0UTD"
      },
      "execution_count": null,
      "outputs": []
    },
    {
      "cell_type": "code",
      "source": [
        "import os\n",
        "# Get the current working directory\n",
        "current_directory = os.getcwd()\n",
        "print(f\"Current working directory: {current_directory}\")"
      ],
      "metadata": {
        "id": "uwx_6jcA6h9q",
        "colab": {
          "base_uri": "https://localhost:8080/"
        },
        "outputId": "bdadafff-2a4c-480a-d943-eebc8546dbae"
      },
      "execution_count": 5,
      "outputs": [
        {
          "output_type": "stream",
          "name": "stdout",
          "text": [
            "Current working directory: /content/drive/MyDrive/zaquitylibrary\n"
          ]
        }
      ]
    },
    {
      "cell_type": "code",
      "source": [
        "\n",
        "import os\n",
        "# Set a new working directory (replace 'path' with your desired directory)\n",
        "new_directory = '/content/drive/MyDrive/zaquitylibrary'\n",
        "os.chdir(new_directory)"
      ],
      "metadata": {
        "id": "4Vd1QOdY6nqG"
      },
      "execution_count": 4,
      "outputs": []
    },
    {
      "cell_type": "code",
      "source": [
        "'''\n",
        "import os\n",
        "#Create a wd where one doesn't exist\n",
        "path = os.path.join('/content/drive/MyDrive/zaquitylibrary')\n",
        "os.makedirs(path)\n",
        "os.chdir(path)\n",
        "print(os.getcwd())\n",
        "'''"
      ],
      "metadata": {
        "id": "M5Da5Vh627M9"
      },
      "execution_count": null,
      "outputs": []
    },
    {
      "cell_type": "code",
      "source": [
        "!apt install python3.10-venv\n",
        "\n",
        "!python3.10 -m venv myenv\n",
        "\n",
        "!source myenv/bin/activate"
      ],
      "metadata": {
        "id": "XdAEYdW33GVQ",
        "colab": {
          "base_uri": "https://localhost:8080/"
        },
        "outputId": "a4a3bb3a-ee6b-4aef-add4-b49a0951eeef"
      },
      "execution_count": 6,
      "outputs": [
        {
          "output_type": "stream",
          "name": "stdout",
          "text": [
            "Reading package lists... Done\n",
            "Building dependency tree... Done\n",
            "Reading state information... Done\n",
            "python3.10-venv is already the newest version (3.10.12-1~22.04.3).\n",
            "0 upgraded, 0 newly installed, 0 to remove and 45 not upgraded.\n"
          ]
        }
      ]
    },
    {
      "cell_type": "code",
      "source": [
        "!pip install wheel\n",
        "!pip install setuptools\n",
        "!pip install twine\n",
        "!pip install pytest==4.4.1\n",
        "!pip install pytest-runner==4.4\n",
        "!python setup.py pytest\n",
        "!python setup.py bdist_wheel"
      ],
      "metadata": {
        "id": "0axUMthz3HK9",
        "colab": {
          "base_uri": "https://localhost:8080/"
        },
        "outputId": "d7814dec-a9e2-4ac0-d249-39cc44b5944b"
      },
      "execution_count": 8,
      "outputs": [
        {
          "output_type": "stream",
          "name": "stdout",
          "text": [
            "Requirement already satisfied: wheel in /usr/local/lib/python3.10/dist-packages (0.43.0)\n",
            "Requirement already satisfied: setuptools in /usr/local/lib/python3.10/dist-packages (67.7.2)\n",
            "Requirement already satisfied: twine in /usr/local/lib/python3.10/dist-packages (5.1.1)\n",
            "Requirement already satisfied: pkginfo>=1.8.1 in /usr/local/lib/python3.10/dist-packages (from twine) (1.10.0)\n",
            "Requirement already satisfied: readme-renderer>=35.0 in /usr/local/lib/python3.10/dist-packages (from twine) (43.0)\n",
            "Requirement already satisfied: requests>=2.20 in /usr/local/lib/python3.10/dist-packages (from twine) (2.31.0)\n",
            "Requirement already satisfied: requests-toolbelt!=0.9.0,>=0.8.0 in /usr/local/lib/python3.10/dist-packages (from twine) (1.0.0)\n",
            "Requirement already satisfied: urllib3>=1.26.0 in /usr/local/lib/python3.10/dist-packages (from twine) (2.0.7)\n",
            "Requirement already satisfied: importlib-metadata>=3.6 in /usr/local/lib/python3.10/dist-packages (from twine) (7.2.0)\n",
            "Requirement already satisfied: keyring>=15.1 in /usr/lib/python3/dist-packages (from twine) (23.5.0)\n",
            "Requirement already satisfied: rfc3986>=1.4.0 in /usr/local/lib/python3.10/dist-packages (from twine) (2.0.0)\n",
            "Requirement already satisfied: rich>=12.0.0 in /usr/local/lib/python3.10/dist-packages (from twine) (13.7.1)\n",
            "Requirement already satisfied: zipp>=0.5 in /usr/local/lib/python3.10/dist-packages (from importlib-metadata>=3.6->twine) (3.19.2)\n",
            "Requirement already satisfied: nh3>=0.2.14 in /usr/local/lib/python3.10/dist-packages (from readme-renderer>=35.0->twine) (0.2.17)\n",
            "Requirement already satisfied: docutils>=0.13.1 in /usr/local/lib/python3.10/dist-packages (from readme-renderer>=35.0->twine) (0.18.1)\n",
            "Requirement already satisfied: Pygments>=2.5.1 in /usr/local/lib/python3.10/dist-packages (from readme-renderer>=35.0->twine) (2.16.1)\n",
            "Requirement already satisfied: charset-normalizer<4,>=2 in /usr/local/lib/python3.10/dist-packages (from requests>=2.20->twine) (3.3.2)\n",
            "Requirement already satisfied: idna<4,>=2.5 in /usr/local/lib/python3.10/dist-packages (from requests>=2.20->twine) (3.7)\n",
            "Requirement already satisfied: certifi>=2017.4.17 in /usr/local/lib/python3.10/dist-packages (from requests>=2.20->twine) (2024.6.2)\n",
            "Requirement already satisfied: markdown-it-py>=2.2.0 in /usr/local/lib/python3.10/dist-packages (from rich>=12.0.0->twine) (3.0.0)\n",
            "Requirement already satisfied: mdurl~=0.1 in /usr/local/lib/python3.10/dist-packages (from markdown-it-py>=2.2.0->rich>=12.0.0->twine) (0.1.2)\n",
            "Requirement already satisfied: pytest==4.4.1 in /usr/local/lib/python3.10/dist-packages (4.4.1)\n",
            "Requirement already satisfied: py>=1.5.0 in /usr/local/lib/python3.10/dist-packages (from pytest==4.4.1) (1.11.0)\n",
            "Requirement already satisfied: six>=1.10.0 in /usr/local/lib/python3.10/dist-packages (from pytest==4.4.1) (1.16.0)\n",
            "Requirement already satisfied: setuptools in /usr/local/lib/python3.10/dist-packages (from pytest==4.4.1) (67.7.2)\n",
            "Requirement already satisfied: attrs>=17.4.0 in /usr/local/lib/python3.10/dist-packages (from pytest==4.4.1) (23.2.0)\n",
            "Requirement already satisfied: atomicwrites>=1.0 in /usr/local/lib/python3.10/dist-packages (from pytest==4.4.1) (1.4.1)\n",
            "Requirement already satisfied: pluggy>=0.9 in /usr/local/lib/python3.10/dist-packages (from pytest==4.4.1) (1.5.0)\n",
            "Requirement already satisfied: more-itertools>=4.0.0 in /usr/local/lib/python3.10/dist-packages (from pytest==4.4.1) (10.1.0)\n",
            "Requirement already satisfied: pytest-runner==4.4 in /usr/local/lib/python3.10/dist-packages (4.4)\n",
            "/usr/local/lib/python3.10/dist-packages/setuptools/__init__.py:84: _DeprecatedInstaller: setuptools.installer and fetch_build_eggs are deprecated.\n",
            "!!\n",
            "\n",
            "        ********************************************************************************\n",
            "        Requirements should be satisfied by a PEP 517 installer.\n",
            "        If you are using pip, you can try `pip install --use-pep517`.\n",
            "        ********************************************************************************\n",
            "\n",
            "!!\n",
            "  dist.fetch_build_eggs(dist.setup_requires)\n",
            "running pytest\n",
            "/usr/local/lib/python3.10/dist-packages/setuptools/command/test.py:194: _DeprecatedInstaller: setuptools.installer and fetch_build_eggs are deprecated.\n",
            "!!\n",
            "\n",
            "        ********************************************************************************\n",
            "        Requirements should be satisfied by a PEP 517 installer.\n",
            "        If you are using pip, you can try `pip install --use-pep517`.\n",
            "        ********************************************************************************\n",
            "\n",
            "!!\n",
            "  ir_d = dist.fetch_build_eggs(dist.install_requires)\n",
            "/usr/local/lib/python3.10/dist-packages/setuptools/command/test.py:195: _DeprecatedInstaller: setuptools.installer and fetch_build_eggs are deprecated.\n",
            "!!\n",
            "\n",
            "        ********************************************************************************\n",
            "        Requirements should be satisfied by a PEP 517 installer.\n",
            "        If you are using pip, you can try `pip install --use-pep517`.\n",
            "        ********************************************************************************\n",
            "\n",
            "!!\n",
            "  tr_d = dist.fetch_build_eggs(dist.tests_require or [])\n",
            "/usr/local/lib/python3.10/dist-packages/setuptools/command/test.py:196: _DeprecatedInstaller: setuptools.installer and fetch_build_eggs are deprecated.\n",
            "!!\n",
            "\n",
            "        ********************************************************************************\n",
            "        Requirements should be satisfied by a PEP 517 installer.\n",
            "        If you are using pip, you can try `pip install --use-pep517`.\n",
            "        ********************************************************************************\n",
            "\n",
            "!!\n",
            "  er_d = dist.fetch_build_eggs(\n",
            "running egg_info\n",
            "writing zaquity.egg-info/PKG-INFO\n",
            "writing dependency_links to zaquity.egg-info/dependency_links.txt\n",
            "writing requirements to zaquity.egg-info/requires.txt\n",
            "writing top-level names to zaquity.egg-info/top_level.txt\n",
            "reading manifest file 'zaquity.egg-info/SOURCES.txt'\n",
            "writing manifest file 'zaquity.egg-info/SOURCES.txt'\n",
            "running build_ext\n",
            "/usr/local/lib/python3.10/dist-packages/_pytest/config/__init__.py:200: PluggyTeardownRaisedWarning: A plugin raised an exception during an old-style hookwrapper teardown.\n",
            "Plugin: helpconfig, Hook: pytest_cmdline_parse\n",
            "TypeError: required field \"lineno\" missing from alias\n",
            "For more information see https://pluggy.readthedocs.io/en/stable/api_reference.html#pluggy.PluggyTeardownRaisedWarning\n",
            "  return pluginmanager.hook.pytest_cmdline_parse(\n",
            "Traceback (most recent call last):\n",
            "  File \"<frozen importlib._bootstrap>\", line 939, in _find_spec\n",
            "AttributeError: 'AssertionRewritingHook' object has no attribute 'find_spec'\n",
            "\n",
            "During handling of the above exception, another exception occurred:\n",
            "\n",
            "Traceback (most recent call last):\n",
            "  File \"/content/drive/MyDrive/zaquitylibrary/setup.py\", line 3, in <module>\n",
            "    setup(\n",
            "  File \"/usr/local/lib/python3.10/dist-packages/setuptools/__init__.py\", line 107, in setup\n",
            "    return distutils.core.setup(**attrs)\n",
            "  File \"/usr/local/lib/python3.10/dist-packages/setuptools/_distutils/core.py\", line 185, in setup\n",
            "    return run_commands(dist)\n",
            "  File \"/usr/local/lib/python3.10/dist-packages/setuptools/_distutils/core.py\", line 201, in run_commands\n",
            "    dist.run_commands()\n",
            "  File \"/usr/local/lib/python3.10/dist-packages/setuptools/_distutils/dist.py\", line 969, in run_commands\n",
            "    self.run_command(cmd)\n",
            "  File \"/usr/local/lib/python3.10/dist-packages/setuptools/dist.py\", line 1244, in run_command\n",
            "    super().run_command(command)\n",
            "  File \"/usr/local/lib/python3.10/dist-packages/setuptools/_distutils/dist.py\", line 988, in run_command\n",
            "    cmd_obj.run()\n",
            "  File \"/usr/local/lib/python3.10/dist-packages/ptr.py\", line 190, in run\n",
            "    return self.run_tests()\n",
            "  File \"/usr/local/lib/python3.10/dist-packages/ptr.py\", line 201, in run_tests\n",
            "    result_code = __import__('pytest').main()\n",
            "  File \"/usr/local/lib/python3.10/dist-packages/_pytest/config/__init__.py\", line 60, in main\n",
            "    config = _prepareconfig(args, plugins)\n",
            "  File \"/usr/local/lib/python3.10/dist-packages/_pytest/config/__init__.py\", line 200, in _prepareconfig\n",
            "    return pluginmanager.hook.pytest_cmdline_parse(\n",
            "  File \"/usr/local/lib/python3.10/dist-packages/pluggy/_hooks.py\", line 513, in __call__\n",
            "    return self._hookexec(self.name, self._hookimpls.copy(), kwargs, firstresult)\n",
            "  File \"/usr/local/lib/python3.10/dist-packages/pluggy/_manager.py\", line 120, in _hookexec\n",
            "    return self._inner_hookexec(hook_name, methods, kwargs, firstresult)\n",
            "  File \"/usr/local/lib/python3.10/dist-packages/pluggy/_callers.py\", line 156, in _multicall\n",
            "    teardown[0].send(outcome)\n",
            "  File \"/usr/local/lib/python3.10/dist-packages/_pytest/helpconfig.py\", line 93, in pytest_cmdline_parse\n",
            "    config = outcome.get_result()\n",
            "  File \"/usr/local/lib/python3.10/dist-packages/pluggy/_result.py\", line 100, in get_result\n",
            "    raise exc.with_traceback(exc.__traceback__)\n",
            "  File \"/usr/local/lib/python3.10/dist-packages/pluggy/_callers.py\", line 103, in _multicall\n",
            "    res = hook_impl.function(*args)\n",
            "  File \"/usr/local/lib/python3.10/dist-packages/_pytest/config/__init__.py\", line 679, in pytest_cmdline_parse\n",
            "    self.parse(args)\n",
            "  File \"/usr/local/lib/python3.10/dist-packages/_pytest/config/__init__.py\", line 896, in parse\n",
            "    self._preparse(args, addopts=addopts)\n",
            "  File \"/usr/local/lib/python3.10/dist-packages/_pytest/config/__init__.py\", line 841, in _preparse\n",
            "    self.pluginmanager.load_setuptools_entrypoints(\"pytest11\")\n",
            "  File \"/usr/local/lib/python3.10/dist-packages/pluggy/_manager.py\", line 421, in load_setuptools_entrypoints\n",
            "    plugin = ep.load()\n",
            "  File \"/usr/lib/python3.10/importlib/metadata/__init__.py\", line 171, in load\n",
            "    module = import_module(match.group('module'))\n",
            "  File \"/usr/lib/python3.10/importlib/__init__.py\", line 126, in import_module\n",
            "    return _bootstrap._gcd_import(name[level:], package, level)\n",
            "  File \"<frozen importlib._bootstrap>\", line 1050, in _gcd_import\n",
            "  File \"<frozen importlib._bootstrap>\", line 1027, in _find_and_load\n",
            "  File \"<frozen importlib._bootstrap>\", line 992, in _find_and_load_unlocked\n",
            "  File \"<frozen importlib._bootstrap>\", line 241, in _call_with_frames_removed\n",
            "  File \"<frozen importlib._bootstrap>\", line 1050, in _gcd_import\n",
            "  File \"<frozen importlib._bootstrap>\", line 1027, in _find_and_load\n",
            "  File \"<frozen importlib._bootstrap>\", line 1006, in _find_and_load_unlocked\n",
            "  File \"<frozen importlib._bootstrap>\", line 688, in _load_unlocked\n",
            "  File \"<frozen importlib._bootstrap_external>\", line 883, in exec_module\n",
            "  File \"<frozen importlib._bootstrap>\", line 241, in _call_with_frames_removed\n",
            "  File \"/usr/local/lib/python3.10/dist-packages/anyio/__init__.py\", line 81, in <module>\n",
            "    from ._core._compat import maybe_async, maybe_async_cm\n",
            "  File \"<frozen importlib._bootstrap>\", line 1027, in _find_and_load\n",
            "  File \"<frozen importlib._bootstrap>\", line 1002, in _find_and_load_unlocked\n",
            "  File \"<frozen importlib._bootstrap>\", line 941, in _find_spec\n",
            "  File \"<frozen importlib._bootstrap>\", line 915, in _find_spec_legacy\n",
            "  File \"/usr/local/lib/python3.10/dist-packages/_pytest/assertion/rewrite.py\", line 166, in find_module\n",
            "    source_stat, co = _rewrite_test(self.config, fn_pypath)\n",
            "  File \"/usr/local/lib/python3.10/dist-packages/_pytest/assertion/rewrite.py\", line 419, in _rewrite_test\n",
            "    co = compile(tree, fn.strpath, \"exec\", dont_inherit=True)\n",
            "TypeError: required field \"lineno\" missing from alias\n",
            "/usr/local/lib/python3.10/dist-packages/setuptools/__init__.py:84: _DeprecatedInstaller: setuptools.installer and fetch_build_eggs are deprecated.\n",
            "!!\n",
            "\n",
            "        ********************************************************************************\n",
            "        Requirements should be satisfied by a PEP 517 installer.\n",
            "        If you are using pip, you can try `pip install --use-pep517`.\n",
            "        ********************************************************************************\n",
            "\n",
            "!!\n",
            "  dist.fetch_build_eggs(dist.setup_requires)\n",
            "running bdist_wheel\n",
            "running build\n",
            "running build_py\n",
            "/usr/local/lib/python3.10/dist-packages/setuptools/_distutils/cmd.py:66: SetuptoolsDeprecationWarning: setup.py install is deprecated.\n",
            "!!\n",
            "\n",
            "        ********************************************************************************\n",
            "        Please avoid running ``setup.py`` directly.\n",
            "        Instead, use pypa/build, pypa/installer, pypa/build or\n",
            "        other standards-based tools.\n",
            "\n",
            "        See https://blog.ganssle.io/articles/2021/10/setup-py-deprecated.html for details.\n",
            "        ********************************************************************************\n",
            "\n",
            "!!\n",
            "  self.initialize_options()\n",
            "installing to build/bdist.linux-x86_64/wheel\n",
            "running install\n",
            "running install_lib\n",
            "creating build/bdist.linux-x86_64/wheel\n",
            "creating build/bdist.linux-x86_64/wheel/zaquity\n",
            "copying build/lib/zaquity/process_data.py -> build/bdist.linux-x86_64/wheel/zaquity\n",
            "copying build/lib/zaquity/jse_data.py -> build/bdist.linux-x86_64/wheel/zaquity\n",
            "copying build/lib/zaquity/jse_tickers.py -> build/bdist.linux-x86_64/wheel/zaquity\n",
            "copying build/lib/zaquity/__init__.py -> build/bdist.linux-x86_64/wheel/zaquity\n",
            "running install_egg_info\n",
            "running egg_info\n",
            "writing zaquity.egg-info/PKG-INFO\n",
            "writing dependency_links to zaquity.egg-info/dependency_links.txt\n",
            "writing requirements to zaquity.egg-info/requires.txt\n",
            "writing top-level names to zaquity.egg-info/top_level.txt\n",
            "reading manifest file 'zaquity.egg-info/SOURCES.txt'\n",
            "writing manifest file 'zaquity.egg-info/SOURCES.txt'\n",
            "Copying zaquity.egg-info to build/bdist.linux-x86_64/wheel/zaquity-0.1.0-py3.10.egg-info\n",
            "running install_scripts\n",
            "creating build/bdist.linux-x86_64/wheel/zaquity-0.1.0.dist-info/WHEEL\n",
            "creating 'dist/zaquity-0.1.0-py3-none-any.whl' and adding 'build/bdist.linux-x86_64/wheel' to it\n",
            "adding 'zaquity/__init__.py'\n",
            "adding 'zaquity/jse_data.py'\n",
            "adding 'zaquity/jse_tickers.py'\n",
            "adding 'zaquity/process_data.py'\n",
            "adding 'zaquity-0.1.0.dist-info/METADATA'\n",
            "adding 'zaquity-0.1.0.dist-info/WHEEL'\n",
            "adding 'zaquity-0.1.0.dist-info/top_level.txt'\n",
            "adding 'zaquity-0.1.0.dist-info/RECORD'\n",
            "removing build/bdist.linux-x86_64/wheel\n"
          ]
        }
      ]
    },
    {
      "cell_type": "markdown",
      "source": [
        "# New Section"
      ],
      "metadata": {
        "id": "L7G1-x0MhMMq"
      }
    },
    {
      "cell_type": "code",
      "source": [
        "!python -m pip install -e ."
      ],
      "metadata": {
        "id": "0Vml0O3I117P"
      },
      "execution_count": null,
      "outputs": []
    },
    {
      "cell_type": "code",
      "source": [
        "!pip install yahooquery"
      ],
      "metadata": {
        "colab": {
          "base_uri": "https://localhost:8080/"
        },
        "id": "YJD2IiJtBnC9",
        "outputId": "3cf5323e-acff-4ac3-a12e-05f955f6cd58"
      },
      "execution_count": 10,
      "outputs": [
        {
          "output_type": "stream",
          "name": "stdout",
          "text": [
            "Collecting yahooquery\n",
            "  Downloading yahooquery-2.3.7-py3-none-any.whl (52 kB)\n",
            "\u001b[?25l     \u001b[90m━━━━━━━━━━━━━━━━━━━━━━━━━━━━━━━━━━━━━━━━\u001b[0m \u001b[32m0.0/52.7 kB\u001b[0m \u001b[31m?\u001b[0m eta \u001b[36m-:--:--\u001b[0m\r\u001b[2K     \u001b[90m━━━━━━━━━━━━━━━━━━━━━━━━━━━━━━━━━━━━━━━━\u001b[0m \u001b[32m52.7/52.7 kB\u001b[0m \u001b[31m1.4 MB/s\u001b[0m eta \u001b[36m0:00:00\u001b[0m\n",
            "\u001b[?25hRequirement already satisfied: beautifulsoup4<5.0.0,>=4.12.2 in /usr/local/lib/python3.10/dist-packages (from yahooquery) (4.12.3)\n",
            "Requirement already satisfied: lxml<5.0.0,>=4.9.3 in /usr/local/lib/python3.10/dist-packages (from yahooquery) (4.9.4)\n",
            "Requirement already satisfied: pandas<3.0.0,>=2.0.3 in /usr/local/lib/python3.10/dist-packages (from yahooquery) (2.0.3)\n",
            "Requirement already satisfied: requests<3.0.0,>=2.31.0 in /usr/local/lib/python3.10/dist-packages (from yahooquery) (2.31.0)\n",
            "Collecting requests-futures<2.0.0,>=1.0.1 (from yahooquery)\n",
            "  Downloading requests_futures-1.0.1-py2.py3-none-any.whl (7.6 kB)\n",
            "Requirement already satisfied: tqdm<5.0.0,>=4.65.0 in /usr/local/lib/python3.10/dist-packages (from yahooquery) (4.66.4)\n",
            "Requirement already satisfied: soupsieve>1.2 in /usr/local/lib/python3.10/dist-packages (from beautifulsoup4<5.0.0,>=4.12.2->yahooquery) (2.5)\n",
            "Requirement already satisfied: python-dateutil>=2.8.2 in /usr/local/lib/python3.10/dist-packages (from pandas<3.0.0,>=2.0.3->yahooquery) (2.8.2)\n",
            "Requirement already satisfied: pytz>=2020.1 in /usr/local/lib/python3.10/dist-packages (from pandas<3.0.0,>=2.0.3->yahooquery) (2023.4)\n",
            "Requirement already satisfied: tzdata>=2022.1 in /usr/local/lib/python3.10/dist-packages (from pandas<3.0.0,>=2.0.3->yahooquery) (2024.1)\n",
            "Requirement already satisfied: numpy>=1.21.0 in /usr/local/lib/python3.10/dist-packages (from pandas<3.0.0,>=2.0.3->yahooquery) (1.25.2)\n",
            "Requirement already satisfied: charset-normalizer<4,>=2 in /usr/local/lib/python3.10/dist-packages (from requests<3.0.0,>=2.31.0->yahooquery) (3.3.2)\n",
            "Requirement already satisfied: idna<4,>=2.5 in /usr/local/lib/python3.10/dist-packages (from requests<3.0.0,>=2.31.0->yahooquery) (3.7)\n",
            "Requirement already satisfied: urllib3<3,>=1.21.1 in /usr/local/lib/python3.10/dist-packages (from requests<3.0.0,>=2.31.0->yahooquery) (2.0.7)\n",
            "Requirement already satisfied: certifi>=2017.4.17 in /usr/local/lib/python3.10/dist-packages (from requests<3.0.0,>=2.31.0->yahooquery) (2024.6.2)\n",
            "Requirement already satisfied: six>=1.5 in /usr/local/lib/python3.10/dist-packages (from python-dateutil>=2.8.2->pandas<3.0.0,>=2.0.3->yahooquery) (1.16.0)\n",
            "Installing collected packages: requests-futures, yahooquery\n",
            "Successfully installed requests-futures-1.0.1 yahooquery-2.3.7\n"
          ]
        }
      ]
    },
    {
      "cell_type": "code",
      "source": [
        "import zaquity"
      ],
      "metadata": {
        "id": "TmIvlika7WCb"
      },
      "execution_count": 11,
      "outputs": []
    },
    {
      "cell_type": "code",
      "source": [
        "#Call functions\n",
        "import os\n",
        "import zaquity\n",
        "from zaquity import jse_tickers as jt\n",
        "from zaquity import jse_data as jd\n",
        "from zaquity import process_data as jpd"
      ],
      "metadata": {
        "id": "GYuTM9GF8Ihh"
      },
      "execution_count": 12,
      "outputs": []
    },
    {
      "cell_type": "code",
      "source": [
        "my_access_key = 'e52cf3b93696352e880916f8c8adbf0c'\n",
        "\n",
        "tickers = jt.get_tickers(my_access_key)\n",
        "\n",
        "symbols = tickers\n",
        "start = '2000-01-27'\n",
        "end = '2024-06-29'\n",
        "output_folder_path = '/content/jsestocks'\n",
        "\n",
        "jd.get_data(symbols, start, end, output_folder_path)\n",
        "\n",
        "jpd.clean('/content/jsestocks')"
      ],
      "metadata": {
        "id": "oAoZLMLE8Qdj"
      },
      "execution_count": 13,
      "outputs": []
    },
    {
      "cell_type": "code",
      "source": [
        "\n",
        "import pandas as pd\n",
        "\n",
        "df = pd.read_csv('/content/jsestocks/NPN.JO.csv')\n",
        "\n",
        "df"
      ],
      "metadata": {
        "id": "6S1Hvqn78yPJ"
      },
      "execution_count": null,
      "outputs": []
    },
    {
      "cell_type": "code",
      "source": [
        "# The following command will upload the package to Test PyPi\n",
        "# You will be asked to provide your Test PyPi credentials\n",
        "\n",
        "!twine upload --repository testpypi /content/drive/MyDrive/zaquitylibrary/dist/zaquity-0.1.0-py3-none-any.whl -u __token__ -p pypi-"
      ],
      "metadata": {
        "id": "GplUj75MFWf-"
      },
      "execution_count": null,
      "outputs": []
    },
    {
      "cell_type": "code",
      "source": [
        "!pip install -i https://test.pypi.org/simple/ zaquity==0.1.0"
      ],
      "metadata": {
        "id": "6tKWhcsoIAgG"
      },
      "execution_count": null,
      "outputs": []
    }
  ]
}